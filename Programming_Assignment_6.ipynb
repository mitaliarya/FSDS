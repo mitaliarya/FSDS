{
 "cells": [
  {
   "cell_type": "markdown",
   "id": "bcc345e3",
   "metadata": {},
   "source": [
    "1. Write a Python Program to Display Fibonacci Sequence Using Recursion?"
   ]
  },
  {
   "cell_type": "code",
   "execution_count": 5,
   "id": "530399ec",
   "metadata": {},
   "outputs": [],
   "source": [
    "def fibonacci(n):\n",
    "    if n<=1:\n",
    "        return n\n",
    "    else:\n",
    "        return fibonacci(n-1)+fibonacci(n-2)"
   ]
  },
  {
   "cell_type": "code",
   "execution_count": 10,
   "id": "ad3e623b",
   "metadata": {},
   "outputs": [
    {
     "name": "stdout",
     "output_type": "stream",
     "text": [
      "Enter number n: 6\n",
      "1\n",
      "1\n",
      "2\n",
      "3\n",
      "5\n",
      "8\n"
     ]
    }
   ],
   "source": [
    "num=int(input(\"Enter number n: \"))\n",
    "if num<=0:\n",
    "    print(\"Enter positive number..\")\n",
    "else:\n",
    "    for i in range(1,num+1):\n",
    "        print(fibonacci(i))"
   ]
  },
  {
   "cell_type": "markdown",
   "id": "eed0bd31",
   "metadata": {},
   "source": [
    "2. Write a Python Program to Find Factorial of Number Using Recursion?"
   ]
  },
  {
   "cell_type": "code",
   "execution_count": 30,
   "id": "c5541f1a",
   "metadata": {},
   "outputs": [],
   "source": []
  },
  {
   "cell_type": "code",
   "execution_count": 34,
   "id": "892066bf",
   "metadata": {},
   "outputs": [
    {
     "name": "stdout",
     "output_type": "stream",
     "text": [
      "Enter number n: 6\n",
      "720\n"
     ]
    }
   ],
   "source": [
    "def fact(n):\n",
    "    if n==1:\n",
    "        return n\n",
    "    else:\n",
    "        return n*fact(n-1)\n",
    "    \n",
    "num=int(input(\"Enter number n: \"))\n",
    "if num<0:\n",
    "    print(\"Enter positive number..\")\n",
    "elif num==0:\n",
    "    print(1)\n",
    "else:\n",
    "    print(fact(num))"
   ]
  },
  {
   "cell_type": "markdown",
   "id": "049af1fe",
   "metadata": {},
   "source": [
    "3. Write a Python Program to calculate your Body Mass Index?"
   ]
  },
  {
   "cell_type": "code",
   "execution_count": 37,
   "id": "00b04f2a",
   "metadata": {},
   "outputs": [
    {
     "name": "stdout",
     "output_type": "stream",
     "text": [
      "Enter your height in cm: 165.09\n",
      "Enter your weight in kg: 50\n",
      "You BMI is 18.345454229979442\n",
      "You are underweight.\n"
     ]
    }
   ],
   "source": [
    "height = float(input(\"Enter your height in cm: \"))\n",
    "weight = float(input(\"Enter your weight in kg: \"))\n",
    "BMI = weight / (height/100)**2\n",
    "print(f\"You BMI is {BMI}\")\n",
    "\n",
    "if BMI <= 18.4:\n",
    "    print(\"You are underweight.\")\n",
    "elif BMI <= 24.9:\n",
    "    print(\"You are healthy.\")\n",
    "elif BMI <= 29.9:\n",
    "    print(\"You are over weight.\")\n",
    "elif BMI <= 34.9:\n",
    "    print(\"You are severely over weight.\")\n",
    "elif BMI <= 39.9:\n",
    "    print(\"You are obese.\")\n",
    "else:\n",
    "    print(\"You are severely obese.\")"
   ]
  },
  {
   "cell_type": "markdown",
   "id": "cfcea9c7",
   "metadata": {},
   "source": [
    "4. Write a Python Program to calculate the natural logarithm of any number?"
   ]
  },
  {
   "cell_type": "code",
   "execution_count": 38,
   "id": "e6d63d5f",
   "metadata": {},
   "outputs": [
    {
     "name": "stdout",
     "output_type": "stream",
     "text": [
      "Enter number: 4\n",
      "Log value:  1.3862943611198906\n"
     ]
    }
   ],
   "source": [
    "import math   \n",
    "num=float(input(\"Enter number: \"))\n",
    "print(\"Log value: \", math.log(num))"
   ]
  },
  {
   "cell_type": "markdown",
   "id": "9418ba6f",
   "metadata": {},
   "source": [
    "5. Write a Python Program for cube sum of first n natural numbers?"
   ]
  },
  {
   "cell_type": "code",
   "execution_count": 39,
   "id": "7256aa51",
   "metadata": {},
   "outputs": [
    {
     "name": "stdout",
     "output_type": "stream",
     "text": [
      "Enter number: 3\n",
      "36\n"
     ]
    }
   ],
   "source": [
    "sum=0\n",
    "num=int(input(\"Enter number: \"))\n",
    "for i in range(1,num+1):\n",
    "    sum+=i**3\n",
    "print(sum)"
   ]
  }
 ],
 "metadata": {
  "kernelspec": {
   "display_name": "Python 3 (ipykernel)",
   "language": "python",
   "name": "python3"
  },
  "language_info": {
   "codemirror_mode": {
    "name": "ipython",
    "version": 3
   },
   "file_extension": ".py",
   "mimetype": "text/x-python",
   "name": "python",
   "nbconvert_exporter": "python",
   "pygments_lexer": "ipython3",
   "version": "3.9.12"
  }
 },
 "nbformat": 4,
 "nbformat_minor": 5
}
