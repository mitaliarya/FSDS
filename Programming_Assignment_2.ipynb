{
 "cells": [
  {
   "cell_type": "markdown",
   "id": "5209b060",
   "metadata": {},
   "source": [
    "Que-1 Write a Python program to convert kilometers to miles?"
   ]
  },
  {
   "cell_type": "code",
   "execution_count": 1,
   "id": "8b275fbb",
   "metadata": {},
   "outputs": [
    {
     "name": "stdout",
     "output_type": "stream",
     "text": [
      "Enter kilometers to be converted into miles: 1\n",
      "1.0 km = 0.621371 miles\n"
     ]
    }
   ],
   "source": [
    "km=float(input(\"Enter kilometers to be converted into miles: \"))\n",
    "miles=km*0.621371\n",
    "print(\"{} km = {} miles\".format(km,miles))"
   ]
  },
  {
   "cell_type": "markdown",
   "id": "129dc9e3",
   "metadata": {},
   "source": [
    "Que-2 Write a Python program to convert Celsius to Fahrenheit?"
   ]
  },
  {
   "cell_type": "code",
   "execution_count": 4,
   "id": "e02fc185",
   "metadata": {},
   "outputs": [
    {
     "name": "stdout",
     "output_type": "stream",
     "text": [
      "Enter celsius to be converted into fahrenheit: -40\n",
      "-40.0 celsius = -40.0 fahrenheit\n"
     ]
    }
   ],
   "source": [
    "cel=float(input(\"Enter celsius to be converted into fahrenheit: \"))\n",
    "fah=(cel*1.8)+32\n",
    "print(\"{} celsius = {} fahrenheit\".format(cel,fah))"
   ]
  },
  {
   "cell_type": "markdown",
   "id": "d2711f56",
   "metadata": {},
   "source": [
    "Que-3 Write a Python program to display calendar?"
   ]
  },
  {
   "cell_type": "code",
   "execution_count": 5,
   "id": "af63ada6",
   "metadata": {},
   "outputs": [
    {
     "name": "stdout",
     "output_type": "stream",
     "text": [
      "Enter year: 2022\n",
      "Enter month: 11\n",
      "   November 2022\n",
      "Mo Tu We Th Fr Sa Su\n",
      "    1  2  3  4  5  6\n",
      " 7  8  9 10 11 12 13\n",
      "14 15 16 17 18 19 20\n",
      "21 22 23 24 25 26 27\n",
      "28 29 30\n",
      "\n"
     ]
    }
   ],
   "source": [
    "import calendar\n",
    "yy = int(input(\"Enter year: \"))\n",
    "mm = int(input(\"Enter month: \"))\n",
    "print(calendar.month(yy, mm))"
   ]
  },
  {
   "cell_type": "markdown",
   "id": "f4ac3995",
   "metadata": {},
   "source": [
    "Que-4 Write a Python program to solve quadratic equation?"
   ]
  },
  {
   "cell_type": "code",
   "execution_count": 6,
   "id": "5443a258",
   "metadata": {},
   "outputs": [
    {
     "name": "stdout",
     "output_type": "stream",
     "text": [
      "Enter coeffecient of x^2 i.e. a: 1\n",
      "Enter coeffecient of x i.e. b: -4\n",
      "Enter constant i.e. c: 1\n",
      "The solution are (0.2679491924311228+0j) and (3.732050807568877+0j)\n"
     ]
    }
   ],
   "source": [
    "# Solve the quadratic equation ax**2 + bx + c = 0\n",
    "\n",
    "import cmath\n",
    "\n",
    "a = float(input(\"Enter coeffecient of x^2 i.e. a: \"))\n",
    "b = float(input(\"Enter coeffecient of x i.e. b: \"))\n",
    "c = float(input(\"Enter constant i.e. c: \"))\n",
    "\n",
    "# calculate the discriminant\n",
    "d = (b**2) - (4*a*c)\n",
    "\n",
    "# find two solutions\n",
    "sol1 = (-b-cmath.sqrt(d))/(2*a)\n",
    "sol2 = (-b+cmath.sqrt(d))/(2*a)\n",
    "\n",
    "print('The solution are {} and {}'.format(sol1,sol2))"
   ]
  },
  {
   "cell_type": "markdown",
   "id": "5ddeeab7",
   "metadata": {},
   "source": [
    "Que-5 Write a Python program to swap two variables without temp variable?"
   ]
  },
  {
   "cell_type": "code",
   "execution_count": 7,
   "id": "c9fd7331",
   "metadata": {},
   "outputs": [
    {
     "name": "stdout",
     "output_type": "stream",
     "text": [
      "Enter first number: 2\n",
      "Enter second number: 3\n",
      "Before swapping: \n",
      "Value of x :  2.0  and y :  3.0\n",
      "After swapping: \n",
      "Value of x :  3.0  and y :  2.0\n"
     ]
    }
   ],
   "source": [
    "x = float(input(\"Enter first number: \"))\n",
    "y = float(input(\"Enter second number: \"))\n",
    " \n",
    "print (\"Before swapping: \")\n",
    "print(\"Value of x : \", x, \" and y : \", y)\n",
    "\n",
    "x = x + y \n",
    "y = x - y \n",
    "x = x - y \n",
    " \n",
    "print (\"After swapping: \")\n",
    "print(\"Value of x : \", x, \" and y : \", y)"
   ]
  }
 ],
 "metadata": {
  "kernelspec": {
   "display_name": "Python 3 (ipykernel)",
   "language": "python",
   "name": "python3"
  },
  "language_info": {
   "codemirror_mode": {
    "name": "ipython",
    "version": 3
   },
   "file_extension": ".py",
   "mimetype": "text/x-python",
   "name": "python",
   "nbconvert_exporter": "python",
   "pygments_lexer": "ipython3",
   "version": "3.9.12"
  }
 },
 "nbformat": 4,
 "nbformat_minor": 5
}
